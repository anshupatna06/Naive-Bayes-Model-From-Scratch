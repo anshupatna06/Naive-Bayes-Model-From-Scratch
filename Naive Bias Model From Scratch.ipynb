{
 "cells": [
  {
   "cell_type": "markdown",
   "id": "18e871ea-4ca3-4436-9678-bce5dcf93142",
   "metadata": {},
   "source": [
    "# Naive Bayes algorithms:\n",
    "Naive Bayes is a machine learning classification algorithm that predicts the category of a data point using \"probability\". It assumes that all features are independent of each other. Naive Bayes performs well in many real-world applications such as spam filtering, document categorization and sentiment analysis.\n",
    "\n",
    "The Naive Bayes Classifier is a simple \"probabilistic classifier\" and it has very few number of parameters which are used to build the ML models that can predict at a faster speed than other classification algorithms.\n",
    "It is a probabilistic classifier because it assumes that 'one feature in the model is independent of existence of another feature'. In other words, each feature contributes to the predictions with no relation between each other.\n",
    "Naive Bayes Algorithm is used in spam filtration, Sentimental analysis, classifying articles and many more."
   ]
  },
  {
   "cell_type": "markdown",
   "id": "db7976c5-cee0-47ab-a22c-22c835b96c7f",
   "metadata": {},
   "source": [
    "# References:-\n",
    "🌐 Online Tutorials / Blogs\n",
    "\n",
    "Scikit-learn Documentation – Naive Bayes\n",
    "https://scikit-learn.org/stable/modules/naive_bayes.html\n",
    "\n",
    "Towards Data Science – Naive Bayes Explained\n",
    "https://towardsdatascience.com/naive-bayes-classifier-81d512f50a7c\n",
    "\n",
    "Analytics Vidhya – Naive Bayes Classifier\n",
    "https://www.analyticsvidhya.com/blog/2017/09/naive-bayes-explained/"
   ]
  },
  {
   "cell_type": "code",
   "execution_count": 41,
   "id": "ec642e6f-8265-415c-98c6-fda9f0239f23",
   "metadata": {},
   "outputs": [],
   "source": [
    "import pandas as pd\n",
    "\n",
    "# Load dataset (you can download sms spam dataset from UCI ML repo or Kaggle)\n",
    "df = pd.read_csv(r\"C:\\Users\\ASUS\\Desktop\\cleaned_DataAnalysis\\archive (9).zip\")\n"
   ]
  },
  {
   "cell_type": "code",
   "execution_count": 42,
   "id": "f3431ef8-3511-46dd-9096-d8b5390f5499",
   "metadata": {},
   "outputs": [
    {
     "name": "stdout",
     "output_type": "stream",
     "text": [
      "   Unnamed: 0 spamORham                                            Message\n",
      "0           0       ham  Go until jurong point, crazy.. Available only ...\n",
      "1           1       ham                      Ok lar... Joking wif u oni...\n",
      "2           2      spam  Free entry in 2 a wkly comp to win FA Cup fina...\n",
      "3           3       ham  U dun say so early hor... U c already then say...\n",
      "4           4       ham  Nah I don't think he goes to usf, he lives aro...\n"
     ]
    }
   ],
   "source": [
    "print(df.head())"
   ]
  },
  {
   "cell_type": "code",
   "execution_count": 43,
   "id": "4526dccd-3d02-425c-a463-36156287148f",
   "metadata": {},
   "outputs": [
    {
     "data": {
      "text/html": [
       "<div>\n",
       "<style scoped>\n",
       "    .dataframe tbody tr th:only-of-type {\n",
       "        vertical-align: middle;\n",
       "    }\n",
       "\n",
       "    .dataframe tbody tr th {\n",
       "        vertical-align: top;\n",
       "    }\n",
       "\n",
       "    .dataframe thead th {\n",
       "        text-align: right;\n",
       "    }\n",
       "</style>\n",
       "<table border=\"1\" class=\"dataframe\">\n",
       "  <thead>\n",
       "    <tr style=\"text-align: right;\">\n",
       "      <th></th>\n",
       "      <th>Unnamed: 0</th>\n",
       "      <th>label</th>\n",
       "      <th>Message</th>\n",
       "    </tr>\n",
       "  </thead>\n",
       "  <tbody>\n",
       "    <tr>\n",
       "      <th>0</th>\n",
       "      <td>0</td>\n",
       "      <td>ham</td>\n",
       "      <td>Go until jurong point, crazy.. Available only ...</td>\n",
       "    </tr>\n",
       "    <tr>\n",
       "      <th>1</th>\n",
       "      <td>1</td>\n",
       "      <td>ham</td>\n",
       "      <td>Ok lar... Joking wif u oni...</td>\n",
       "    </tr>\n",
       "    <tr>\n",
       "      <th>2</th>\n",
       "      <td>2</td>\n",
       "      <td>spam</td>\n",
       "      <td>Free entry in 2 a wkly comp to win FA Cup fina...</td>\n",
       "    </tr>\n",
       "    <tr>\n",
       "      <th>3</th>\n",
       "      <td>3</td>\n",
       "      <td>ham</td>\n",
       "      <td>U dun say so early hor... U c already then say...</td>\n",
       "    </tr>\n",
       "    <tr>\n",
       "      <th>4</th>\n",
       "      <td>4</td>\n",
       "      <td>ham</td>\n",
       "      <td>Nah I don't think he goes to usf, he lives aro...</td>\n",
       "    </tr>\n",
       "  </tbody>\n",
       "</table>\n",
       "</div>"
      ],
      "text/plain": [
       "   Unnamed: 0 label                                            Message\n",
       "0           0   ham  Go until jurong point, crazy.. Available only ...\n",
       "1           1   ham                      Ok lar... Joking wif u oni...\n",
       "2           2  spam  Free entry in 2 a wkly comp to win FA Cup fina...\n",
       "3           3   ham  U dun say so early hor... U c already then say...\n",
       "4           4   ham  Nah I don't think he goes to usf, he lives aro..."
      ]
     },
     "execution_count": 43,
     "metadata": {},
     "output_type": "execute_result"
    }
   ],
   "source": [
    "df=df.rename(columns={'spamORham':'label'})\n",
    "df.head()"
   ]
  },
  {
   "cell_type": "code",
   "execution_count": 44,
   "id": "9103ecbe-c7d3-4973-8151-4f77b5fb7bfa",
   "metadata": {},
   "outputs": [
    {
     "data": {
      "text/plain": [
       "Index(['Unnamed: 0', 'label', 'Message'], dtype='object')"
      ]
     },
     "execution_count": 44,
     "metadata": {},
     "output_type": "execute_result"
    }
   ],
   "source": [
    "df.columns"
   ]
  },
  {
   "cell_type": "code",
   "execution_count": 45,
   "id": "fc6e19d9-3695-4576-ba36-8532e5b73004",
   "metadata": {},
   "outputs": [],
   "source": [
    "import pandas as pd\n",
    "import numpy as np\n",
    "import re\n",
    "from collections import Counter\n",
    "\n",
    "# ---------------------------\n",
    "# Load dataset\n",
    "# ---------------------------\n",
    "df = pd.read_csv(r\"C:\\Users\\ASUS\\Desktop\\cleaned_DataAnalysis\\archive (9).zip\", encoding=\"latin-1\")\n",
    "\n"
   ]
  },
  {
   "cell_type": "code",
   "execution_count": 46,
   "id": "80c72eb7-365f-4118-be98-1d4a09717d59",
   "metadata": {},
   "outputs": [
    {
     "data": {
      "text/plain": [
       "Index(['Unnamed: 0', 'spamORham', 'Message'], dtype='object')"
      ]
     },
     "execution_count": 46,
     "metadata": {},
     "output_type": "execute_result"
    }
   ],
   "source": [
    "df.columns"
   ]
  },
  {
   "cell_type": "code",
   "execution_count": 47,
   "id": "749b2d8d-2f0d-4cb1-acbd-9ef87fc7eadb",
   "metadata": {},
   "outputs": [
    {
     "data": {
      "text/html": [
       "<div>\n",
       "<style scoped>\n",
       "    .dataframe tbody tr th:only-of-type {\n",
       "        vertical-align: middle;\n",
       "    }\n",
       "\n",
       "    .dataframe tbody tr th {\n",
       "        vertical-align: top;\n",
       "    }\n",
       "\n",
       "    .dataframe thead th {\n",
       "        text-align: right;\n",
       "    }\n",
       "</style>\n",
       "<table border=\"1\" class=\"dataframe\">\n",
       "  <thead>\n",
       "    <tr style=\"text-align: right;\">\n",
       "      <th></th>\n",
       "      <th>Unnamed: 0</th>\n",
       "      <th>spamORham</th>\n",
       "      <th>Message</th>\n",
       "    </tr>\n",
       "  </thead>\n",
       "  <tbody>\n",
       "    <tr>\n",
       "      <th>0</th>\n",
       "      <td>0</td>\n",
       "      <td>ham</td>\n",
       "      <td>Go until jurong point, crazy.. Available only ...</td>\n",
       "    </tr>\n",
       "    <tr>\n",
       "      <th>1</th>\n",
       "      <td>1</td>\n",
       "      <td>ham</td>\n",
       "      <td>Ok lar... Joking wif u oni...</td>\n",
       "    </tr>\n",
       "    <tr>\n",
       "      <th>2</th>\n",
       "      <td>2</td>\n",
       "      <td>spam</td>\n",
       "      <td>Free entry in 2 a wkly comp to win FA Cup fina...</td>\n",
       "    </tr>\n",
       "    <tr>\n",
       "      <th>3</th>\n",
       "      <td>3</td>\n",
       "      <td>ham</td>\n",
       "      <td>U dun say so early hor... U c already then say...</td>\n",
       "    </tr>\n",
       "    <tr>\n",
       "      <th>4</th>\n",
       "      <td>4</td>\n",
       "      <td>ham</td>\n",
       "      <td>Nah I don't think he goes to usf, he lives aro...</td>\n",
       "    </tr>\n",
       "  </tbody>\n",
       "</table>\n",
       "</div>"
      ],
      "text/plain": [
       "   Unnamed: 0 spamORham                                            Message\n",
       "0           0       ham  Go until jurong point, crazy.. Available only ...\n",
       "1           1       ham                      Ok lar... Joking wif u oni...\n",
       "2           2      spam  Free entry in 2 a wkly comp to win FA Cup fina...\n",
       "3           3       ham  U dun say so early hor... U c already then say...\n",
       "4           4       ham  Nah I don't think he goes to usf, he lives aro..."
      ]
     },
     "execution_count": 47,
     "metadata": {},
     "output_type": "execute_result"
    }
   ],
   "source": [
    "df.head()"
   ]
  },
  {
   "cell_type": "code",
   "execution_count": 48,
   "id": "363db3a2-396a-4dfe-80f0-20ced0c75769",
   "metadata": {},
   "outputs": [],
   "source": [
    "df = df[['spamORham', 'Message']]\n",
    "df.columns = ['label', 'message']"
   ]
  },
  {
   "cell_type": "code",
   "execution_count": 49,
   "id": "9f39aa01-9f12-4a13-bd7c-afeacfe9cdec",
   "metadata": {},
   "outputs": [
    {
     "data": {
      "text/plain": [
       "Index(['label', 'message'], dtype='object')"
      ]
     },
     "execution_count": 49,
     "metadata": {},
     "output_type": "execute_result"
    }
   ],
   "source": [
    "df.columns"
   ]
  },
  {
   "cell_type": "code",
   "execution_count": 50,
   "id": "d49155c8-741b-4e41-b096-d28f40911749",
   "metadata": {},
   "outputs": [
    {
     "name": "stdout",
     "output_type": "stream",
     "text": [
      "   label                                            message  \\\n",
      "0      0  Go until jurong point, crazy.. Available only ...   \n",
      "1      0                      Ok lar... Joking wif u oni...   \n",
      "2      1  Free entry in 2 a wkly comp to win FA Cup fina...   \n",
      "3      0  U dun say so early hor... U c already then say...   \n",
      "4      0  Nah I don't think he goes to usf, he lives aro...   \n",
      "\n",
      "                                              tokens  \n",
      "0  [go, until, jurong, point, crazy, available, o...  \n",
      "1                     [ok, lar, joking, wif, u, oni]  \n",
      "2  [free, entry, in, a, wkly, comp, to, win, fa, ...  \n",
      "3  [u, dun, say, so, early, hor, u, c, already, t...  \n",
      "4  [nah, i, dont, think, he, goes, to, usf, he, l...  \n"
     ]
    }
   ],
   "source": [
    "\n",
    "# Keep only required columns (spam/ham + Message)\n",
    "df = df[['label', 'message']]\n",
    "\n",
    "# Rename for convenience\n",
    "df.columns = ['label', 'message']\n",
    "\n",
    "# Map ham→0, spam→1\n",
    "df['label'] = df['label'].map({\"ham\":0, \"spam\":1})\n",
    "\n",
    "# ---------------------------\n",
    "# Text Preprocessing\n",
    "# ---------------------------\n",
    "def preprocess(text):\n",
    "    text = text.lower()\n",
    "    text = re.sub(r'[^a-z\\s]', '', text)  # keep only letters\n",
    "    return text.split()\n",
    "\n",
    "df['tokens'] = df['message'].apply(preprocess)\n",
    "\n",
    "print(df.head())"
   ]
  },
  {
   "cell_type": "code",
   "execution_count": 51,
   "id": "3317d888-6462-49ff-9e0c-22cd8855dc83",
   "metadata": {},
   "outputs": [
    {
     "data": {
      "text/plain": [
       "array([0, 0, 1, ..., 0, 0, 0], shape=(5572,))"
      ]
     },
     "execution_count": 51,
     "metadata": {},
     "output_type": "execute_result"
    }
   ],
   "source": [
    "y=df[\"label\"].values\n",
    "y"
   ]
  },
  {
   "cell_type": "code",
   "execution_count": 52,
   "id": "7b99363e-0246-4fa3-96eb-635486d9c0f7",
   "metadata": {},
   "outputs": [],
   "source": [
    "\n",
    "from sklearn.model_selection import train_test_split\n",
    "from sklearn.metrics import accuracy_score, classification_report\n",
    "\n",
    "\n",
    "# Drop index col if present\n",
    "df = df[[\"label\", \"message\", \"tokens\"]]\n"
   ]
  },
  {
   "cell_type": "code",
   "execution_count": 53,
   "id": "45bb5db6-d3db-4eac-b049-9e07c93ed412",
   "metadata": {},
   "outputs": [],
   "source": [
    "# 2. Build vocabulary\n",
    "\n",
    "vocab = sorted(set(word for tokens in df[\"tokens\"] for word in tokens))\n",
    "vocab_index = {word: i for i, word in enumerate(vocab)}\n",
    "V = len(vocab)\n"
   ]
  },
  {
   "cell_type": "code",
   "execution_count": 54,
   "id": "a8854fc3-40e6-4d3b-9915-147460363d6f",
   "metadata": {},
   "outputs": [],
   "source": [
    "# 3. Vectorize function\n",
    "# ------------------------------\n",
    "def vectorize(tokens):\n",
    "    vec = np.zeros(V)\n",
    "    counts = Counter(tokens)\n",
    "    for word, count in counts.items():\n",
    "        if word in vocab_index:\n",
    "            vec[vocab_index[word]] = count\n",
    "    return vec\n"
   ]
  },
  {
   "cell_type": "code",
   "execution_count": 55,
   "id": "6a7887b4-4e9f-4669-bcda-bd39f1f3fd0b",
   "metadata": {},
   "outputs": [],
   "source": [
    "X = np.array([vectorize(tokens) for tokens in df[\"tokens\"]])\n",
    "\n",
    "\n",
    "y = np.array(df[\"label\"])\n",
    "\n",
    "# ------------------------------\n",
    "# 4. Train/test split\n",
    "# ------------------------------\n",
    "X_train, X_test, y_train, y_test = train_test_split(\n",
    "    X, y, test_size=0.2, random_state=42\n",
    ")\n"
   ]
  },
  {
   "cell_type": "markdown",
   "id": "d96ad6bc-23dc-4713-a9ab-0cb21e60b39c",
   "metadata": {},
   "source": [
    "# Let's first understand the mathematical concepts and formulas behind the Naive Bias AlgorithmL:-"
   ]
  },
  {
   "cell_type": "markdown",
   "id": "b2fb5a47-753a-40b8-b8c8-3c31d0ff3e2b",
   "metadata": {},
   "source": [
    "# 📘 Naive Bayes Formulas (for Text Classification)\n",
    "\n",
    "# 1. Bayes’ Theorem\n",
    "\n",
    "#$$P(y \\mid x) = \\frac{P(x \\mid y) \\cdot P(y)}{P(x)}$$\n",
    "\n",
    "#Core formula.\n",
    "\n",
    "#For classification, we only need the numerator (since  is same for all classes).\n",
    "\n",
    "\n",
    "\n",
    "#---\n",
    "\n",
    "# 2. Prediction Rule\n",
    "\n",
    "#$$\\hat{y} = \\arg\\max_{c \\in \\{classes\\}} P(y=c) \\cdot \\prod_{i=1}^{n} P(x_i \\mid y=c)$$\n",
    "\n",
    "#Choose the class  that maximizes posterior probability.\n",
    "\n",
    "#Naive assumption: features (words) are independent given class.\n",
    "\n",
    "\n",
    "\n",
    "#---\n",
    "\n",
    "# 3. Prior Probability\n",
    "\n",
    "#$$P(y=c) = \\frac{\\text{Number of documents in class } c}{\\text{Total number of documents}}$$\n",
    "\n",
    "#Fraction of messages that belong to a class (spam/ham).\n",
    "\n",
    "\n",
    "\n",
    "#---\n",
    "\n",
    "# 4. Conditional Probability (Word likelihood with Laplace smoothing)\n",
    "\n",
    "#$$P(word \\mid class) = \\frac{\\text{Count(word in class)} + 1}{\\text{Total words in class} + |V|}$$\n",
    "\n",
    "#= vocabulary size (unique words).\n",
    "\n",
    "#+1 = Laplace smoothing (avoids zero probability).\n",
    "\n",
    "\n",
    "\n",
    "#---\n",
    "\n",
    "# 5. Document Probability (Log space)\n",
    "\n",
    "#$$\\log P(y=c \\mid x) \\propto \\log P(y=c) + \\sum_{i=1}^{n} x_i \\cdot \\log P(word_i \\mid y=c)$$\n",
    "\n",
    "#Multiply probabilities → take logs to avoid underflow.\n",
    "\n",
    "#= word count in the message.\n",
    "\n",
    "# Add log-probabilities instead of multiplying raw probabilities.\n",
    "\n",
    "\n",
    "\n",
    "#---\n",
    "\n",
    "# 6. Decision Rule\n",
    "\n",
    "#$$\\hat{y} = \\arg\\max_{c} \\bigg[ \\log P(y=c) + \\sum_{i=1}^{n} x_i \\cdot \\log P(word_i \\mid y=c) \\bigg]$$\n",
    "\n",
    "#Final classification: pick the class with the highest log score."
   ]
  },
  {
   "cell_type": "markdown",
   "id": "f91dd3dc-3ccf-4240-8275-89b0a5fe2c06",
   "metadata": {},
   "source": [
    "# Now,Let's build the Naive Bayes Model using the concepts explained above:-"
   ]
  },
  {
   "cell_type": "code",
   "execution_count": 56,
   "id": "570bd1d1-ba01-4b38-af59-342c57c2cf77",
   "metadata": {},
   "outputs": [],
   "source": [
    "# 5. Naive Bayes Implementation\n",
    "# ------------------------------\n",
    "class NaiveBayes:\n",
    "    def fit(self, X, y):\n",
    "        n_samples, n_features = X.shape\n",
    "        self.classes = np.unique(y)\n",
    "        n_classes = len(self.classes)\n",
    "\n",
    "        self.class_priors = np.zeros(n_classes)\n",
    "        self.word_counts = np.zeros((n_classes, n_features))\n",
    "\n",
    "        for c in self.classes:\n",
    "            X_c = X[y == c]\n",
    "            self.class_priors[c] = X_c.shape[0] / n_samples\n",
    "            self.word_counts[c, :] = np.sum(X_c, axis=0) + 1  # Laplace smoothing\n",
    "\n",
    "        self.word_probs = self.word_counts / self.word_counts.sum(axis=1, keepdims=True)\n",
    "\n",
    "    def predict(self, X):\n",
    "        preds = []\n",
    "        for x in X:\n",
    "            class_scores = []\n",
    "            for c in self.classes:\n",
    "                prior = np.log(self.class_priors[c])\n",
    "                cond = np.sum(x * np.log(self.word_probs[c]))\n",
    "                class_scores.append(prior + cond)\n",
    "            preds.append(np.argmax(class_scores))\n",
    "        return np.array(preds)\n",
    "\n",
    "# ------------------------------\n"
   ]
  },
  {
   "cell_type": "code",
   "execution_count": 57,
   "id": "ea45a0ee-7190-478f-9665-7665582ff2b1",
   "metadata": {},
   "outputs": [
    {
     "name": "stdout",
     "output_type": "stream",
     "text": [
      "Accuracy: 0.9721973094170404\n",
      "\n",
      "Classification Report:\n",
      "               precision    recall  f1-score   support\n",
      "\n",
      "           0       0.99      0.98      0.98       965\n",
      "           1       0.88      0.91      0.90       150\n",
      "\n",
      "    accuracy                           0.97      1115\n",
      "   macro avg       0.94      0.95      0.94      1115\n",
      "weighted avg       0.97      0.97      0.97      1115\n",
      "\n"
     ]
    }
   ],
   "source": [
    "# 6. Train & Evaluate\n",
    "# ------------------------------\n",
    "nb = NaiveBayes()\n",
    "nb.fit(X_train, y_train)\n",
    "\n",
    "y_pred = nb.predict(X_test)\n",
    "\n",
    "print(\"Accuracy:\", accuracy_score(y_test, y_pred))\n",
    "print(\"\\nClassification Report:\\n\", classification_report(y_test, y_pred))"
   ]
  },
  {
   "cell_type": "code",
   "execution_count": 58,
   "id": "c7283d69-456f-451d-bfc8-1335bc6673a3",
   "metadata": {},
   "outputs": [],
   "source": [
    "# Conclusion:-\n",
    "#hence,we implemented Naive Bayes Model on the SpamORham dataset with an accuracy of ~97%.\n",
    "#What's the meaning of the word \"Naive Bayes\" in this model?\n",
    "#Ans:-'Naive' meaning ecah feature is independent of ohers,This algorithm strictly assumes that every feature is independent of another one.\n",
    "#'Bayes' is because this model uess Bayes's Theorem for making the predictions.\n",
    "\n",
    "#Advantages of Naive Bayes Classifier\n",
    "#Easy to implement and computationally efficient.\n",
    "#Effective in cases with a large number of features.\n",
    "#Performs well even with limited training data.\n",
    "#It performs well in the presence of categorical features.\n",
    "#For numerical features data is assumed to come from normal distributions\n",
    "\n",
    "#Disadvantages of Naive Bayes Classifier\n",
    "#Assumes that features are independent, which may not always hold in real-world data.\n",
    "#Can be influenced by irrelevant attributes.\n",
    "#May assign zero probability to unseen events, leading to poor generalization.\n",
    "\n",
    "#Applications of Naive Bayes Classifier\n",
    "#Spam Email Filtering: Classifies emails as spam or non-spam based on features.\n",
    "#Text Classification: Used in sentiment analysis, document categorization, and topic classification.\n",
    "#Medical Diagnosis: Helps in predicting the likelihood of a disease based on symptoms."
   ]
  },
  {
   "cell_type": "code",
   "execution_count": null,
   "id": "5e62964a-7b68-4a9c-8800-5925763b780a",
   "metadata": {},
   "outputs": [],
   "source": []
  },
  {
   "cell_type": "code",
   "execution_count": null,
   "id": "804bda7f-39a6-43cf-951e-7e41f4cd32f1",
   "metadata": {},
   "outputs": [],
   "source": []
  }
 ],
 "metadata": {
  "kernelspec": {
   "display_name": "Python 3 (ipykernel)",
   "language": "python",
   "name": "python3"
  },
  "language_info": {
   "codemirror_mode": {
    "name": "ipython",
    "version": 3
   },
   "file_extension": ".py",
   "mimetype": "text/x-python",
   "name": "python",
   "nbconvert_exporter": "python",
   "pygments_lexer": "ipython3",
   "version": "3.13.4"
  }
 },
 "nbformat": 4,
 "nbformat_minor": 5
}
